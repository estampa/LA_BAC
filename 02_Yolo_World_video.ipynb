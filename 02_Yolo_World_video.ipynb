{
  "nbformat": 4,
  "nbformat_minor": 0,
  "metadata": {
    "colab": {
      "provenance": [],
      "gpuType": "T4",
      "include_colab_link": true
    },
    "kernelspec": {
      "name": "python3",
      "display_name": "Python 3"
    },
    "language_info": {
      "name": "python"
    },
    "accelerator": "GPU"
  },
  "cells": [
    {
      "cell_type": "markdown",
      "metadata": {
        "id": "view-in-github",
        "colab_type": "text"
      },
      "source": [
        "<a href=\"https://colab.research.google.com/github/estampa/LA_BAC/blob/main/02_Yolo_World_video.ipynb\" target=\"_parent\"><img src=\"https://colab.research.google.com/assets/colab-badge.svg\" alt=\"Open In Colab\"/></a>"
      ]
    },
    {
      "cell_type": "code",
      "source": [
        "!pip install -q ultralytics\n",
        "!pip install -q git+https://github.com/openai/CLIP.git"
      ],
      "metadata": {
        "id": "Lzzd5vKIjoxk"
      },
      "execution_count": null,
      "outputs": []
    },
    {
      "cell_type": "code",
      "source": [
        "#@title Load the model\n",
        "\n",
        "from ultralytics import YOLO\n",
        "\n",
        "#@markdown Model size (s, m, x, l) - bigger size means better results, but slower\n",
        "model_size = 'm' # @param [\"s\", \"m\", \"l\", \"x\"]\n",
        "\n",
        "\n",
        "# Initialize a YOLO-World model\n",
        "model = YOLO(f\"yolov8{model_size}-worldv2.pt\")  # or select yolov8m/l-world.pt\n",
        "\n"
      ],
      "metadata": {
        "cellView": "form",
        "id": "x6wEQkOhby4y"
      },
      "execution_count": null,
      "outputs": []
    },
    {
      "cell_type": "code",
      "source": [
        "#@title Mount Google Drive\n",
        "\n",
        "from google.colab import drive\n",
        "drive.mount('/content/drive')"
      ],
      "metadata": {
        "cellView": "form",
        "id": "8dlJrgfZBmZu"
      },
      "execution_count": null,
      "outputs": []
    },
    {
      "cell_type": "code",
      "execution_count": null,
      "metadata": {
        "id": "8kdkuPYFjCUU",
        "cellView": "form"
      },
      "outputs": [],
      "source": [
        "#@title Process\n",
        "\n",
        "#@markdown The output will be saved to \"runs/detect/predict\"\n",
        "\n",
        "#@markdown Input the path to a video file or a folder with images\n",
        "input_path = \"/content/drive/MyDrive/YOLO/input\" # @param {type:\"string\"}\n",
        "output_path = \"/content/drive/MyDrive/YOLO/output\" # @param {type:\"string\"}\n",
        "\n",
        "#@markdown Enter the classes to be detected, separated by comma\n",
        "classes = \"person, animal, thing\" # @param {type:\"string\"}\n",
        "\n",
        "#@markdown Thresholds\n",
        "score_threshold = 0.005 # @param {type:\"number\", min:0, max:1}\n",
        "nms_threshold = 0.7 # @param {type:\"number\", min:0, max:1}\n",
        "\n",
        "\n",
        "# Define custom classes\n",
        "model.set_classes([cl.strip() for cl in classes.split(',')])\n",
        "print([cl.strip() for cl in classes.split(',')])\n",
        "\n",
        "results = model.predict(input_path, conf=score_threshold, iou=nms_threshold, save=True, project=output_path, name=\"yolo_world\")\n"
      ]
    },
    {
      "cell_type": "code",
      "source": [
        "#@title Download output folder\n",
        "import os\n",
        "\n",
        "from google.colab import files\n",
        "\n",
        "import datetime\n",
        "\n",
        "filename = datetime.datetime.now().strftime(\"%Y-%m-%d_%H-%M\")\n",
        "images_path = os.path.join(output_path, \"yolo_world\")\n",
        "print(images_path)\n",
        "\n",
        "!zip -q /tmp/processed-{filename}.zip {images_path}/*\n",
        "\n",
        "files.download(f\"/tmp/processed-{filename}.zip\")"
      ],
      "metadata": {
        "cellView": "form",
        "id": "y872dhntjMs_"
      },
      "execution_count": null,
      "outputs": []
    },
    {
      "cell_type": "code",
      "source": [
        "#@title Clear output folder\n",
        "\n",
        "!rm runs/detect/predict/*"
      ],
      "metadata": {
        "cellView": "form",
        "id": "ChVZWFgQmBhM"
      },
      "execution_count": null,
      "outputs": []
    }
  ]
}